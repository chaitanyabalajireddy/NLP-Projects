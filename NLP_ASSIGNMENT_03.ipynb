{
  "nbformat": 4,
  "nbformat_minor": 0,
  "metadata": {
    "colab": {
      "provenance": [],
      "gpuType": "T4",
      "authorship_tag": "ABX9TyOA2A2FAE0GOEJXL4oYNNmI",
      "include_colab_link": true
    },
    "kernelspec": {
      "name": "python3",
      "display_name": "Python 3"
    },
    "language_info": {
      "name": "python"
    },
    "accelerator": "GPU"
  },
  "cells": [
    {
      "cell_type": "markdown",
      "metadata": {
        "id": "view-in-github",
        "colab_type": "text"
      },
      "source": [
        "<a href=\"https://colab.research.google.com/github/chaitanyabalajireddy/NLP-Projects/blob/main/NLP_ASSIGNMENT_03.ipynb\" target=\"_parent\"><img src=\"https://colab.research.google.com/assets/colab-badge.svg\" alt=\"Open In Colab\"/></a>"
      ]
    },
    {
      "cell_type": "markdown",
      "source": [
        "## **Word2Vec with Skip-Gram and Negative Sampling using Gensim**"
      ],
      "metadata": {
        "id": "BjqJDwdgSSBV"
      }
    },
    {
      "cell_type": "code",
      "source": [
        "import pandas as pd\n",
        "from gensim.models import Word2Vec\n",
        "import multiprocessing\n",
        "from nltk.tokenize import word_tokenize\n",
        "from nltk.corpus import stopwords\n",
        "import string\n",
        "import nltk\n",
        "\n",
        "# Download necessary NLTK datasets\n",
        "nltk.download('punkt')\n",
        "nltk.download('stopwords')\n",
        "\n",
        "stop_words = set(stopwords.words('english'))\n",
        "\n",
        "def clean_and_tokenize(text):\n",
        "    \"\"\"Clean text by lowering case, removing punctuation and stopwords, then tokenize.\"\"\"\n",
        "    text = text.lower()  # Lowercase text\n",
        "    text = text.translate(str.maketrans('', '', string.punctuation))  # Remove punctuation\n",
        "    tokens = word_tokenize(text)  # Tokenize\n",
        "    tokens = [w for w in tokens if not w in stop_words]  # Remove stopwords\n",
        "    return tokens\n",
        "\n",
        "# Load CSV file\n",
        "csv_file_path = '/content/train_data.csv'\n",
        "df = pd.read_csv(csv_file_path)\n",
        "\n",
        "# Assuming the text data is in a column named 'text'\n",
        "# Adjust the column name as needed\n",
        "texts = df['text'].dropna().apply(clean_and_tokenize)\n",
        "\n",
        "\n",
        "# Convert DataFrame series to list of lists (sentences) for Word2Vec\n",
        "sentences = texts.tolist()\n",
        "\n",
        "# Initialize and train the Word2Vec model with Skip-Gram and Negative Sampling\n",
        "model = Word2Vec(sentences=sentences,\n",
        "                 vector_size=100,  # Dimensionality of the word vectors\n",
        "                 window=5,         # Max distance between current and predicted word\n",
        "                 min_count=2,      # Ignores words with total frequency lower than this\n",
        "                 workers=multiprocessing.cpu_count(),  # Use these many worker threads to train the model\n",
        "                 sg=1,             # Skip-gram model\n",
        "                 hs=0,             # Negative sampling\n",
        "                 negative=10)      # Number of negative samples\n",
        "\n",
        "# Save the model\n",
        "model.save(\"word2vec.model\")\n"
      ],
      "metadata": {
        "colab": {
          "base_uri": "https://localhost:8080/"
        },
        "id": "yRP2vxSO_RLO",
        "outputId": "df96f809-5dd5-4009-f38a-ded433b174c7"
      },
      "execution_count": 3,
      "outputs": [
        {
          "output_type": "stream",
          "name": "stderr",
          "text": [
            "[nltk_data] Downloading package punkt to /root/nltk_data...\n",
            "[nltk_data]   Package punkt is already up-to-date!\n",
            "[nltk_data] Downloading package stopwords to /root/nltk_data...\n",
            "[nltk_data]   Package stopwords is already up-to-date!\n"
          ]
        }
      ]
    },
    {
      "cell_type": "markdown",
      "source": [
        "## **FastText Model using Gensim**"
      ],
      "metadata": {
        "id": "JqGf_nxSSXdI"
      }
    },
    {
      "cell_type": "code",
      "source": [
        "from gensim.models import FastText\n",
        "import multiprocessing\n",
        "\n",
        "# Initialize and train the FastText model with the preprocessed and tokenized sentences\n",
        "# Assuming 'sentences' is already defined and contains the tokenized sentences from your CSV data\n",
        "fasttext_model = FastText(sentences=sentences,\n",
        "                          vector_size=100,  # Dimensionality of the word vectors\n",
        "                          window=5,         # Max distance between the current and predicted word\n",
        "                          min_count=2,      # Ignores words with total frequency lower than this\n",
        "                          workers=multiprocessing.cpu_count(),  # Use these many worker threads to train the model\n",
        "                          sg=1,  # Skip-gram model\n",
        "                          hs=0,  # Negative sampling\n",
        "                          negative=10)      # Number of negative samples\n",
        "\n",
        "# Save the model to disk\n",
        "fasttext_model.save(\"fasttext.model\")\n"
      ],
      "metadata": {
        "id": "rtf0x1Yy9-ct"
      },
      "execution_count": 4,
      "outputs": []
    },
    {
      "cell_type": "markdown",
      "source": [
        "# **Building RNN, Loading pretrained models & Testing**"
      ],
      "metadata": {
        "id": "UIsTBL4dSb9S"
      }
    },
    {
      "cell_type": "code",
      "source": [
        "import numpy as np\n",
        "import pandas as pd\n",
        "from gensim.models import Word2Vec, FastText\n",
        "import tensorflow as tf\n",
        "from tensorflow.keras.preprocessing.text import Tokenizer\n",
        "from tensorflow.keras.preprocessing.sequence import pad_sequences\n",
        "from tensorflow.keras.models import Sequential\n",
        "from tensorflow.keras.layers import Embedding, LSTM, Dense, Bidirectional\n",
        "\n",
        "# Load dataset for tokenizer fitting\n",
        "# Assuming your dataset 'train_texts' for fitting the tokenizer is ready\n",
        "# Example dataset for illustration; replace with your actual dataset loading logic\n",
        "train_texts = [\"Sample text for tokenizer\", \"Another sample text\"]\n",
        "\n",
        "# Initialize and fit the Tokenizer\n",
        "tokenizer = Tokenizer()\n",
        "tokenizer.fit_on_texts(train_texts)\n",
        "word_index = tokenizer.word_index\n",
        "\n",
        "# Function to prepare the embedding matrix\n",
        "def prepare_embedding_matrix(pretrained_model, word_index, embedding_dim=100):\n",
        "    embedding_matrix = np.zeros((len(word_index) + 1, embedding_dim))\n",
        "    for word, i in word_index.items():\n",
        "        # Check if the word is in the pretrained model's vocabulary\n",
        "        if word in pretrained_model.wv:\n",
        "            # Access the word's vector and assign it to the embedding matrix\n",
        "            embedding_vector = pretrained_model.wv[word]\n",
        "            embedding_matrix[i] = embedding_vector\n",
        "        # Optional: Handle out-of-vocabulary words, if necessary\n",
        "        # else:\n",
        "        #     # For example, you could initialize a random vector (not shown here)\n",
        "    return embedding_matrix\n",
        "\n",
        "\n",
        "# Function to build and compile the RNN model\n",
        "def build_rnn_model(word_index, embedding_matrix, input_length=100):\n",
        "    model = Sequential([\n",
        "        Embedding(len(word_index) + 1, embedding_matrix.shape[1], weights=[embedding_matrix], input_length=input_length, trainable=False),\n",
        "        Bidirectional(LSTM(64)),\n",
        "        Dense(1, activation='sigmoid')\n",
        "    ])\n",
        "    model.compile(optimizer='adam', loss='binary_crossentropy', metrics=['accuracy'])\n",
        "    return model\n",
        "\n",
        "# Load pretrained Word2Vec and FastText models\n",
        "word2vec_model = Word2Vec.load(\"/content/word2vec.model\")\n",
        "fasttext_model = FastText.load(\"/content/fasttext.model\")\n",
        "\n",
        "# Prepare embedding matrices\n",
        "w2v_embedding_matrix = prepare_embedding_matrix(word2vec_model, word_index)\n",
        "ft_embedding_matrix = prepare_embedding_matrix(fasttext_model, word_index)\n",
        "\n",
        "# Example: Using Word2Vec embeddings\n",
        "model = build_rnn_model(word_index, w2v_embedding_matrix)\n",
        "\n",
        "# Load test data\n",
        "test_csv_path = '/content/test_data.csv'\n",
        "test_df = pd.read_csv(test_csv_path)\n",
        "test_texts = test_df['text'].astype(str).tolist()\n",
        "\n",
        "# Convert string labels to binary numeric labels\n",
        "label_mapping = {'pos': 1, 'neg': 0}\n",
        "test_labels = test_df['label'].map(label_mapping).values.astype(np.float32)\n",
        "\n",
        "# Tokenize and pad test texts\n",
        "test_sequences = tokenizer.texts_to_sequences(test_texts)\n",
        "test_padded = pad_sequences(test_sequences, maxlen=100)\n",
        "\n",
        "# Evaluate the model on the test data\n",
        "loss, accuracy = model.evaluate(test_padded, test_labels)\n",
        "print(f'Test Loss: {loss}, Test Accuracy: {accuracy}')\n"
      ],
      "metadata": {
        "colab": {
          "base_uri": "https://localhost:8080/"
        },
        "id": "U_f4jonLmRm_",
        "outputId": "f7092f2c-5e2c-40d0-96ee-930f067ebcd8"
      },
      "execution_count": 13,
      "outputs": [
        {
          "output_type": "stream",
          "name": "stdout",
          "text": [
            "782/782 [==============================] - 6s 5ms/step - loss: 0.6932 - accuracy: 0.4932\n",
            "Test Loss: 0.693162202835083, Test Accuracy: 0.4931600093841553\n"
          ]
        }
      ]
    },
    {
      "cell_type": "code",
      "source": [
        "import matplotlib.pyplot as plt\n",
        "\n",
        "# Metrics to plot\n",
        "metrics = ['Loss', 'Accuracy']\n",
        "values = [loss, accuracy]\n",
        "\n",
        "# Plotting\n",
        "plt.figure(figsize=(10, 6))\n",
        "bars = plt.bar(metrics, values, color=['red', 'green'])\n",
        "\n",
        "# Adding the numerical data on top of each bar\n",
        "for bar in bars:\n",
        "    yval = bar.get_height()\n",
        "    plt.text(bar.get_x() + bar.get_width()/2, yval + 0.005, round(yval, 4), ha='center', va='bottom')\n",
        "\n",
        "plt.xlabel('Evaluation Metrics')\n",
        "plt.ylabel('Values')\n",
        "plt.title('Model Evaluation Metrics')\n",
        "plt.ylim(0, 1)  # Assuming loss is also between 0 and 1 for consistency; adjust if necessary\n",
        "plt.show()\n"
      ],
      "metadata": {
        "colab": {
          "base_uri": "https://localhost:8080/",
          "height": 564
        },
        "id": "rkLt9Jzvi-r-",
        "outputId": "39a57b2b-3503-47f6-9bd5-c39e29111c89"
      },
      "execution_count": 14,
      "outputs": [
        {
          "output_type": "display_data",
          "data": {
            "text/plain": [
              "<Figure size 1000x600 with 1 Axes>"
            ],
            "image/png": "[encoded data removed]"
          },
          "metadata": {}
        }
      ]
    }
  ]
}